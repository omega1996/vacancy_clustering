{
 "cells": [
  {
   "cell_type": "code",
   "execution_count": 18,
   "metadata": {},
   "outputs": [],
   "source": [
    "import pandas"
   ]
  },
  {
   "cell_type": "code",
   "execution_count": 19,
   "metadata": {},
   "outputs": [],
   "source": [
    "dataset_dir = \"datasets\"\n",
    "filename_22k = f'{dataset_dir}\\\\df_vacancies_full_ru_22K.csv'\n",
    "filename_4k = f'{dataset_dir}\\\\hh_corpus_4K_classter.csv'\n",
    "\n",
    "df_vacancies_22k = pandas.read_csv(filename_22k, sep = ',', encoding='utf')\n",
    "df_vacancies_4k = pandas.read_csv(filename_4k, sep = ',', encoding='utf')"
   ]
  },
  {
   "cell_type": "code",
   "execution_count": 20,
   "metadata": {},
   "outputs": [],
   "source": [
    "del df_vacancies_22k['lemmatized_text_pos_tags']"
   ]
  },
  {
   "cell_type": "code",
   "execution_count": 21,
   "metadata": {
    "scrolled": true
   },
   "outputs": [
    {
     "data": {
      "text/html": [
       "<div>\n",
       "<style scoped>\n",
       "    .dataframe tbody tr th:only-of-type {\n",
       "        vertical-align: middle;\n",
       "    }\n",
       "\n",
       "    .dataframe tbody tr th {\n",
       "        vertical-align: top;\n",
       "    }\n",
       "\n",
       "    .dataframe thead th {\n",
       "        text-align: right;\n",
       "    }\n",
       "</style>\n",
       "<table border=\"1\" class=\"dataframe\">\n",
       "  <thead>\n",
       "    <tr style=\"text-align: right;\">\n",
       "      <th></th>\n",
       "      <th>id</th>\n",
       "      <th>is_prog</th>\n",
       "      <th>is_test</th>\n",
       "      <th>label_true</th>\n",
       "      <th>title</th>\n",
       "      <th>text</th>\n",
       "    </tr>\n",
       "  </thead>\n",
       "  <tbody>\n",
       "    <tr>\n",
       "      <th>0</th>\n",
       "      <td>24992389</td>\n",
       "      <td>False</td>\n",
       "      <td>True</td>\n",
       "      <td>101</td>\n",
       "      <td>Специалист офиса продаж и обслуживания</td>\n",
       "      <td>Специалист офиса продаж и обслуживания Ты наш ...</td>\n",
       "    </tr>\n",
       "    <tr>\n",
       "      <th>1</th>\n",
       "      <td>25195139</td>\n",
       "      <td>False</td>\n",
       "      <td>True</td>\n",
       "      <td>101</td>\n",
       "      <td>Специалист салона связи Beeline</td>\n",
       "      <td>Специалист салона связи Beeline Ты наш человек...</td>\n",
       "    </tr>\n",
       "    <tr>\n",
       "      <th>2</th>\n",
       "      <td>22995930</td>\n",
       "      <td>False</td>\n",
       "      <td>True</td>\n",
       "      <td>101</td>\n",
       "      <td>Специалист отдела продаж Билайн</td>\n",
       "      <td>Специалист отдела продаж Билайн Ты наш человек...</td>\n",
       "    </tr>\n",
       "    <tr>\n",
       "      <th>3</th>\n",
       "      <td>23754493</td>\n",
       "      <td>False</td>\n",
       "      <td>True</td>\n",
       "      <td>101</td>\n",
       "      <td>Продавец-консультант</td>\n",
       "      <td>Продавец-консультант Ты наш человек, если поня...</td>\n",
       "    </tr>\n",
       "    <tr>\n",
       "      <th>4</th>\n",
       "      <td>23841958</td>\n",
       "      <td>False</td>\n",
       "      <td>True</td>\n",
       "      <td>101</td>\n",
       "      <td>Продавец консультант в салон связи Билайн</td>\n",
       "      <td>Продавец консультант в салон связи Билайн Ты н...</td>\n",
       "    </tr>\n",
       "  </tbody>\n",
       "</table>\n",
       "</div>"
      ],
      "text/plain": [
       "         id  is_prog  is_test  label_true  \\\n",
       "0  24992389    False     True         101   \n",
       "1  25195139    False     True         101   \n",
       "2  22995930    False     True         101   \n",
       "3  23754493    False     True         101   \n",
       "4  23841958    False     True         101   \n",
       "\n",
       "                                       title  \\\n",
       "0     Специалист офиса продаж и обслуживания   \n",
       "1            Специалист салона связи Beeline   \n",
       "2            Специалист отдела продаж Билайн   \n",
       "3                       Продавец-консультант   \n",
       "4  Продавец консультант в салон связи Билайн   \n",
       "\n",
       "                                                text  \n",
       "0  Специалист офиса продаж и обслуживания Ты наш ...  \n",
       "1  Специалист салона связи Beeline Ты наш человек...  \n",
       "2  Специалист отдела продаж Билайн Ты наш человек...  \n",
       "3  Продавец-консультант Ты наш человек, если поня...  \n",
       "4  Продавец консультант в салон связи Билайн Ты н...  "
      ]
     },
     "execution_count": 21,
     "metadata": {},
     "output_type": "execute_result"
    }
   ],
   "source": [
    "df_vacancies_22k.head()"
   ]
  },
  {
   "cell_type": "code",
   "execution_count": null,
   "metadata": {},
   "outputs": [],
   "source": []
  },
  {
   "cell_type": "code",
   "execution_count": 11,
   "metadata": {},
   "outputs": [
    {
     "data": {
      "text/html": [
       "<div>\n",
       "<style scoped>\n",
       "    .dataframe tbody tr th:only-of-type {\n",
       "        vertical-align: middle;\n",
       "    }\n",
       "\n",
       "    .dataframe tbody tr th {\n",
       "        vertical-align: top;\n",
       "    }\n",
       "\n",
       "    .dataframe thead th {\n",
       "        text-align: right;\n",
       "    }\n",
       "</style>\n",
       "<table border=\"1\" class=\"dataframe\">\n",
       "  <thead>\n",
       "    <tr style=\"text-align: right;\">\n",
       "      <th></th>\n",
       "      <th>id</th>\n",
       "      <th>title</th>\n",
       "      <th>text</th>\n",
       "      <th>labels</th>\n",
       "    </tr>\n",
       "  </thead>\n",
       "  <tbody>\n",
       "    <tr>\n",
       "      <th>0</th>\n",
       "      <td>20001586</td>\n",
       "      <td>Инженер-проектировщик решений по передаче данных</td>\n",
       "      <td>Инженер-проектировщик решений по передаче данн...</td>\n",
       "      <td>20</td>\n",
       "    </tr>\n",
       "    <tr>\n",
       "      <th>1</th>\n",
       "      <td>20001746</td>\n",
       "      <td>Архитектор решений</td>\n",
       "      <td>Архитектор решений Обязанности:  разработка ар...</td>\n",
       "      <td>17</td>\n",
       "    </tr>\n",
       "    <tr>\n",
       "      <th>2</th>\n",
       "      <td>20001909</td>\n",
       "      <td>Python-разработчик в Район</td>\n",
       "      <td>Python-разработчик в Район Новый сервис Яндекс...</td>\n",
       "      <td>14</td>\n",
       "    </tr>\n",
       "    <tr>\n",
       "      <th>3</th>\n",
       "      <td>20002793</td>\n",
       "      <td>Системный администратор/Программист Delphi</td>\n",
       "      <td>Системный администратор/Программист Delphi Обя...</td>\n",
       "      <td>14,10</td>\n",
       "    </tr>\n",
       "    <tr>\n",
       "      <th>4</th>\n",
       "      <td>20004542</td>\n",
       "      <td>IT аналитик (электронные торговые площадки)</td>\n",
       "      <td>IT аналитик (электронные торговые площадки)   ...</td>\n",
       "      <td>8</td>\n",
       "    </tr>\n",
       "  </tbody>\n",
       "</table>\n",
       "</div>"
      ],
      "text/plain": [
       "         id                                             title  \\\n",
       "0  20001586  Инженер-проектировщик решений по передаче данных   \n",
       "1  20001746                                Архитектор решений   \n",
       "2  20001909                        Python-разработчик в Район   \n",
       "3  20002793        Системный администратор/Программист Delphi   \n",
       "4  20004542       IT аналитик (электронные торговые площадки)   \n",
       "\n",
       "                                                text labels  \n",
       "0  Инженер-проектировщик решений по передаче данн...     20  \n",
       "1  Архитектор решений Обязанности:  разработка ар...     17  \n",
       "2  Python-разработчик в Район Новый сервис Яндекс...     14  \n",
       "3  Системный администратор/Программист Delphi Обя...  14,10  \n",
       "4  IT аналитик (электронные торговые площадки)   ...      8  "
      ]
     },
     "execution_count": 11,
     "metadata": {},
     "output_type": "execute_result"
    }
   ],
   "source": [
    "df_vacancies_4k.head()"
   ]
  },
  {
   "cell_type": "markdown",
   "metadata": {},
   "source": [
    "# Готовим тексты вакансий"
   ]
  },
  {
   "cell_type": "code",
   "execution_count": 13,
   "metadata": {},
   "outputs": [],
   "source": [
    "import codecs\n",
    "import os\n",
    "import pymorphy2\n",
    "from string import ascii_lowercase, digits, whitespace\n",
    "from tqdm import tqdm_notebook\n",
    "\n",
    "morph = pymorphy2.MorphAnalyzer()\n",
    "\n",
    "cyrillic = u\"абвгдеёжзийклмнопрстуфхцчшщъыьэюя\"\n",
    "\n",
    "allowed_characters = ascii_lowercase + digits + cyrillic + whitespace\n",
    "\n",
    "def complex_preprocess(text, additional_allowed_characters = \"+#\"):\n",
    "    return ''.join([character if character in set(allowed_characters+additional_allowed_characters) else ' ' for character in text.lower()]).split()\n",
    "\n",
    "\n",
    "def lemmatize(tokens, filter_pos):\n",
    "    '''Produce normal forms for russian words using pymorphy2\n",
    "    '''\n",
    "    lemmas = []\n",
    "    tagged_lemmas = []\n",
    "    \n",
    "    for token in tokens:\n",
    "        parsed_token = morph.parse(token)[0]\n",
    "        norm = parsed_token.normal_form\n",
    "        pos = parsed_token.tag.POS\n",
    "        if pos is not None:\n",
    "            if pos not in filter_pos:\n",
    "                lemmas.append(norm)\n",
    "                tagged_lemmas.append(norm + \"_\" + pos)\n",
    "        else:\n",
    "            lemmas.append(token)\n",
    "            tagged_lemmas.append(token+\"_\")\n",
    "\n",
    "    return lemmas, tagged_lemmas\n",
    "\n",
    "def process_text(full_text, filter_pos=(\"PREP\", \"NPRO\", \"CONJ\")):\n",
    "    '''Process a single text and return a processed version\n",
    "    '''\n",
    "    single_line_text = full_text.replace('\\n',' ')\n",
    "    preprocessed_text = complex_preprocess(single_line_text)\n",
    "    \n",
    "    lemmatized_text, lemmatized_text_pos_tags = lemmatize(preprocessed_text, filter_pos=filter_pos)\n",
    "\n",
    "    return { \"full_text\" : full_text,\n",
    "    \"single_line_text\": single_line_text,\n",
    "    \"preprocessed_text\": preprocessed_text,\n",
    "    \"lemmatized_text\": lemmatized_text,\n",
    "    \"lemmatized_text_pos_tags\": lemmatized_text_pos_tags}\n",
    "\n",
    "def process_text_documents(text_files_directory, filter_pos=(\"PREP\", \"NPRO\", \"CONJ\")):\n",
    "    for file in os.listdir(text_files_directory):\n",
    "        if os.path.isfile(os.path.join(text_files_directory, file)):\n",
    "            with codecs.open(os.path.join(text_files_directory, file), encoding='utf-8') as f:\n",
    "                full_text = f.read()\n",
    "                doc_dict = process_text(full_text)\n",
    "                doc_dict[\"filename\"] = file\n",
    "                yield doc_dict"
   ]
  },
  {
   "cell_type": "code",
   "execution_count": 14,
   "metadata": {},
   "outputs": [],
   "source": [
    "def preprocessed_text_in_df(df):\n",
    "    df['preprocessed_text'] = ''\n",
    "    df['lemmatized_text'] = ''\n",
    "    df['lemmatized_text_pos_tags'] = ''\n",
    "\n",
    "    for i in tqdm_notebook(range(len(df))):\n",
    "        preprocessed_text = process_text(df.iloc[i]['text'])\n",
    "        df['preprocessed_text'].iloc[i] = preprocessed_text['preprocessed_text']\n",
    "        df['lemmatized_text'].iloc[i] = preprocessed_text['lemmatized_text']\n",
    "        df['lemmatized_text_pos_tags'].iloc[i] = preprocessed_text['lemmatized_text_pos_tags']"
   ]
  },
  {
   "cell_type": "code",
   "execution_count": 16,
   "metadata": {
    "scrolled": true
   },
   "outputs": [
    {
     "data": {
      "application/vnd.jupyter.widget-view+json": {
       "model_id": "4da77246df04432e9d7b2d147ad5daf2",
       "version_major": 2,
       "version_minor": 0
      },
      "text/plain": [
       "HBox(children=(IntProgress(value=0, max=4290), HTML(value='')))"
      ]
     },
     "metadata": {},
     "output_type": "display_data"
    },
    {
     "name": "stderr",
     "output_type": "stream",
     "text": [
      "C:\\ProgramData\\Anaconda3\\envs\\all_my_projects_3_6\\lib\\site-packages\\pandas\\core\\indexing.py:189: SettingWithCopyWarning: \n",
      "A value is trying to be set on a copy of a slice from a DataFrame\n",
      "\n",
      "See the caveats in the documentation: http://pandas.pydata.org/pandas-docs/stable/indexing.html#indexing-view-versus-copy\n",
      "  self._setitem_with_indexer(indexer, value)\n"
     ]
    }
   ],
   "source": [
    "preprocessed_text_in_df(df_vacancies_4k)"
   ]
  },
  {
   "cell_type": "code",
   "execution_count": 17,
   "metadata": {},
   "outputs": [
    {
     "data": {
      "text/html": [
       "<div>\n",
       "<style scoped>\n",
       "    .dataframe tbody tr th:only-of-type {\n",
       "        vertical-align: middle;\n",
       "    }\n",
       "\n",
       "    .dataframe tbody tr th {\n",
       "        vertical-align: top;\n",
       "    }\n",
       "\n",
       "    .dataframe thead th {\n",
       "        text-align: right;\n",
       "    }\n",
       "</style>\n",
       "<table border=\"1\" class=\"dataframe\">\n",
       "  <thead>\n",
       "    <tr style=\"text-align: right;\">\n",
       "      <th></th>\n",
       "      <th>id</th>\n",
       "      <th>title</th>\n",
       "      <th>text</th>\n",
       "      <th>labels</th>\n",
       "      <th>preprocessed_text</th>\n",
       "      <th>lemmatized_text</th>\n",
       "      <th>lemmatized_text_pos_tags</th>\n",
       "    </tr>\n",
       "  </thead>\n",
       "  <tbody>\n",
       "    <tr>\n",
       "      <th>0</th>\n",
       "      <td>20001586</td>\n",
       "      <td>Инженер-проектировщик решений по передаче данных</td>\n",
       "      <td>Инженер-проектировщик решений по передаче данн...</td>\n",
       "      <td>20</td>\n",
       "      <td>[инженер, проектировщик, решений, по, передаче...</td>\n",
       "      <td>[инженер, проектировщик, решение, передача, да...</td>\n",
       "      <td>[инженер_NOUN, проектировщик_NOUN, решение_NOU...</td>\n",
       "    </tr>\n",
       "    <tr>\n",
       "      <th>1</th>\n",
       "      <td>20001746</td>\n",
       "      <td>Архитектор решений</td>\n",
       "      <td>Архитектор решений Обязанности:  разработка ар...</td>\n",
       "      <td>17</td>\n",
       "      <td>[архитектор, решений, обязанности, разработка,...</td>\n",
       "      <td>[архитектор, решение, обязанность, разработка,...</td>\n",
       "      <td>[архитектор_NOUN, решение_NOUN, обязанность_NO...</td>\n",
       "    </tr>\n",
       "    <tr>\n",
       "      <th>2</th>\n",
       "      <td>20001909</td>\n",
       "      <td>Python-разработчик в Район</td>\n",
       "      <td>Python-разработчик в Район Новый сервис Яндекс...</td>\n",
       "      <td>14</td>\n",
       "      <td>[python, разработчик, в, район, новый, сервис,...</td>\n",
       "      <td>[python, разработчик, район, новый, сервис, ян...</td>\n",
       "      <td>[python_, разработчик_NOUN, район_NOUN, новый_...</td>\n",
       "    </tr>\n",
       "    <tr>\n",
       "      <th>3</th>\n",
       "      <td>20002793</td>\n",
       "      <td>Системный администратор/Программист Delphi</td>\n",
       "      <td>Системный администратор/Программист Delphi Обя...</td>\n",
       "      <td>14,10</td>\n",
       "      <td>[системный, администратор, программист, delphi...</td>\n",
       "      <td>[системный, администратор, программист, delphi...</td>\n",
       "      <td>[системный_ADJF, администратор_NOUN, программи...</td>\n",
       "    </tr>\n",
       "    <tr>\n",
       "      <th>4</th>\n",
       "      <td>20004542</td>\n",
       "      <td>IT аналитик (электронные торговые площадки)</td>\n",
       "      <td>IT аналитик (электронные торговые площадки)   ...</td>\n",
       "      <td>8</td>\n",
       "      <td>[it, аналитик, электронные, торговые, площадки...</td>\n",
       "      <td>[it, аналитик, электронный, торговый, площадка...</td>\n",
       "      <td>[it_, аналитик_NOUN, электронный_ADJF, торговы...</td>\n",
       "    </tr>\n",
       "  </tbody>\n",
       "</table>\n",
       "</div>"
      ],
      "text/plain": [
       "         id                                             title  \\\n",
       "0  20001586  Инженер-проектировщик решений по передаче данных   \n",
       "1  20001746                                Архитектор решений   \n",
       "2  20001909                        Python-разработчик в Район   \n",
       "3  20002793        Системный администратор/Программист Delphi   \n",
       "4  20004542       IT аналитик (электронные торговые площадки)   \n",
       "\n",
       "                                                text labels  \\\n",
       "0  Инженер-проектировщик решений по передаче данн...     20   \n",
       "1  Архитектор решений Обязанности:  разработка ар...     17   \n",
       "2  Python-разработчик в Район Новый сервис Яндекс...     14   \n",
       "3  Системный администратор/Программист Delphi Обя...  14,10   \n",
       "4  IT аналитик (электронные торговые площадки)   ...      8   \n",
       "\n",
       "                                   preprocessed_text  \\\n",
       "0  [инженер, проектировщик, решений, по, передаче...   \n",
       "1  [архитектор, решений, обязанности, разработка,...   \n",
       "2  [python, разработчик, в, район, новый, сервис,...   \n",
       "3  [системный, администратор, программист, delphi...   \n",
       "4  [it, аналитик, электронные, торговые, площадки...   \n",
       "\n",
       "                                     lemmatized_text  \\\n",
       "0  [инженер, проектировщик, решение, передача, да...   \n",
       "1  [архитектор, решение, обязанность, разработка,...   \n",
       "2  [python, разработчик, район, новый, сервис, ян...   \n",
       "3  [системный, администратор, программист, delphi...   \n",
       "4  [it, аналитик, электронный, торговый, площадка...   \n",
       "\n",
       "                            lemmatized_text_pos_tags  \n",
       "0  [инженер_NOUN, проектировщик_NOUN, решение_NOU...  \n",
       "1  [архитектор_NOUN, решение_NOUN, обязанность_NO...  \n",
       "2  [python_, разработчик_NOUN, район_NOUN, новый_...  \n",
       "3  [системный_ADJF, администратор_NOUN, программи...  \n",
       "4  [it_, аналитик_NOUN, электронный_ADJF, торговы...  "
      ]
     },
     "execution_count": 17,
     "metadata": {},
     "output_type": "execute_result"
    }
   ],
   "source": [
    "df_vacancies_4k.head()"
   ]
  },
  {
   "cell_type": "code",
   "execution_count": 18,
   "metadata": {},
   "outputs": [
    {
     "data": {
      "application/vnd.jupyter.widget-view+json": {
       "model_id": "ae99527f89954b208901b18c5ef3d846",
       "version_major": 2,
       "version_minor": 0
      },
      "text/plain": [
       "HBox(children=(IntProgress(value=0, max=22810), HTML(value='')))"
      ]
     },
     "metadata": {},
     "output_type": "display_data"
    },
    {
     "name": "stderr",
     "output_type": "stream",
     "text": [
      "C:\\ProgramData\\Anaconda3\\envs\\all_my_projects_3_6\\lib\\site-packages\\pandas\\core\\indexing.py:189: SettingWithCopyWarning: \n",
      "A value is trying to be set on a copy of a slice from a DataFrame\n",
      "\n",
      "See the caveats in the documentation: http://pandas.pydata.org/pandas-docs/stable/indexing.html#indexing-view-versus-copy\n",
      "  self._setitem_with_indexer(indexer, value)\n"
     ]
    }
   ],
   "source": [
    "preprocessed_text_in_df(df_vacancies_22k)"
   ]
  },
  {
   "cell_type": "code",
   "execution_count": 19,
   "metadata": {},
   "outputs": [
    {
     "data": {
      "text/html": [
       "<div>\n",
       "<style scoped>\n",
       "    .dataframe tbody tr th:only-of-type {\n",
       "        vertical-align: middle;\n",
       "    }\n",
       "\n",
       "    .dataframe tbody tr th {\n",
       "        vertical-align: top;\n",
       "    }\n",
       "\n",
       "    .dataframe thead th {\n",
       "        text-align: right;\n",
       "    }\n",
       "</style>\n",
       "<table border=\"1\" class=\"dataframe\">\n",
       "  <thead>\n",
       "    <tr style=\"text-align: right;\">\n",
       "      <th></th>\n",
       "      <th>id</th>\n",
       "      <th>is_prog</th>\n",
       "      <th>is_test</th>\n",
       "      <th>label_true</th>\n",
       "      <th>title</th>\n",
       "      <th>text</th>\n",
       "      <th>preprocessed_text</th>\n",
       "      <th>lemmatized_text</th>\n",
       "      <th>lemmatized_text_pos_tags</th>\n",
       "    </tr>\n",
       "  </thead>\n",
       "  <tbody>\n",
       "    <tr>\n",
       "      <th>0</th>\n",
       "      <td>24992389</td>\n",
       "      <td>False</td>\n",
       "      <td>True</td>\n",
       "      <td>101</td>\n",
       "      <td>Специалист офиса продаж и обслуживания</td>\n",
       "      <td>Специалист офиса продаж и обслуживания Ты наш ...</td>\n",
       "      <td>[специалист, офиса, продаж, и, обслуживания, т...</td>\n",
       "      <td>[специалист, офис, продажа, обслуживание, наш,...</td>\n",
       "      <td>[специалист_NOUN, офис_NOUN, продажа_NOUN, обс...</td>\n",
       "    </tr>\n",
       "    <tr>\n",
       "      <th>1</th>\n",
       "      <td>25195139</td>\n",
       "      <td>False</td>\n",
       "      <td>True</td>\n",
       "      <td>101</td>\n",
       "      <td>Специалист салона связи Beeline</td>\n",
       "      <td>Специалист салона связи Beeline Ты наш человек...</td>\n",
       "      <td>[специалист, салона, связи, beeline, ты, наш, ...</td>\n",
       "      <td>[специалист, салон, связь, beeline, наш, челов...</td>\n",
       "      <td>[специалист_NOUN, салон_NOUN, связь_NOUN, beel...</td>\n",
       "    </tr>\n",
       "    <tr>\n",
       "      <th>2</th>\n",
       "      <td>22995930</td>\n",
       "      <td>False</td>\n",
       "      <td>True</td>\n",
       "      <td>101</td>\n",
       "      <td>Специалист отдела продаж Билайн</td>\n",
       "      <td>Специалист отдела продаж Билайн Ты наш человек...</td>\n",
       "      <td>[специалист, отдела, продаж, билайн, ты, наш, ...</td>\n",
       "      <td>[специалист, отдел, продажа, билайн, наш, чело...</td>\n",
       "      <td>[специалист_NOUN, отдел_NOUN, продажа_NOUN, би...</td>\n",
       "    </tr>\n",
       "    <tr>\n",
       "      <th>3</th>\n",
       "      <td>23754493</td>\n",
       "      <td>False</td>\n",
       "      <td>True</td>\n",
       "      <td>101</td>\n",
       "      <td>Продавец-консультант</td>\n",
       "      <td>Продавец-консультант Ты наш человек, если поня...</td>\n",
       "      <td>[продавец, консультант, ты, наш, человек, если...</td>\n",
       "      <td>[продавец, консультант, наш, человек, понятие,...</td>\n",
       "      <td>[продавец_NOUN, консультант_NOUN, наш_ADJF, че...</td>\n",
       "    </tr>\n",
       "    <tr>\n",
       "      <th>4</th>\n",
       "      <td>23841958</td>\n",
       "      <td>False</td>\n",
       "      <td>True</td>\n",
       "      <td>101</td>\n",
       "      <td>Продавец консультант в салон связи Билайн</td>\n",
       "      <td>Продавец консультант в салон связи Билайн Ты н...</td>\n",
       "      <td>[продавец, консультант, в, салон, связи, билай...</td>\n",
       "      <td>[продавец, консультант, салон, связь, билайн, ...</td>\n",
       "      <td>[продавец_NOUN, консультант_NOUN, салон_NOUN, ...</td>\n",
       "    </tr>\n",
       "  </tbody>\n",
       "</table>\n",
       "</div>"
      ],
      "text/plain": [
       "         id  is_prog  is_test  label_true  \\\n",
       "0  24992389    False     True         101   \n",
       "1  25195139    False     True         101   \n",
       "2  22995930    False     True         101   \n",
       "3  23754493    False     True         101   \n",
       "4  23841958    False     True         101   \n",
       "\n",
       "                                       title  \\\n",
       "0     Специалист офиса продаж и обслуживания   \n",
       "1            Специалист салона связи Beeline   \n",
       "2            Специалист отдела продаж Билайн   \n",
       "3                       Продавец-консультант   \n",
       "4  Продавец консультант в салон связи Билайн   \n",
       "\n",
       "                                                text  \\\n",
       "0  Специалист офиса продаж и обслуживания Ты наш ...   \n",
       "1  Специалист салона связи Beeline Ты наш человек...   \n",
       "2  Специалист отдела продаж Билайн Ты наш человек...   \n",
       "3  Продавец-консультант Ты наш человек, если поня...   \n",
       "4  Продавец консультант в салон связи Билайн Ты н...   \n",
       "\n",
       "                                   preprocessed_text  \\\n",
       "0  [специалист, офиса, продаж, и, обслуживания, т...   \n",
       "1  [специалист, салона, связи, beeline, ты, наш, ...   \n",
       "2  [специалист, отдела, продаж, билайн, ты, наш, ...   \n",
       "3  [продавец, консультант, ты, наш, человек, если...   \n",
       "4  [продавец, консультант, в, салон, связи, билай...   \n",
       "\n",
       "                                     lemmatized_text  \\\n",
       "0  [специалист, офис, продажа, обслуживание, наш,...   \n",
       "1  [специалист, салон, связь, beeline, наш, челов...   \n",
       "2  [специалист, отдел, продажа, билайн, наш, чело...   \n",
       "3  [продавец, консультант, наш, человек, понятие,...   \n",
       "4  [продавец, консультант, салон, связь, билайн, ...   \n",
       "\n",
       "                            lemmatized_text_pos_tags  \n",
       "0  [специалист_NOUN, офис_NOUN, продажа_NOUN, обс...  \n",
       "1  [специалист_NOUN, салон_NOUN, связь_NOUN, beel...  \n",
       "2  [специалист_NOUN, отдел_NOUN, продажа_NOUN, би...  \n",
       "3  [продавец_NOUN, консультант_NOUN, наш_ADJF, че...  \n",
       "4  [продавец_NOUN, консультант_NOUN, салон_NOUN, ...  "
      ]
     },
     "execution_count": 19,
     "metadata": {},
     "output_type": "execute_result"
    }
   ],
   "source": [
    "df_vacancies_22k.head()"
   ]
  },
  {
   "cell_type": "code",
   "execution_count": 5,
   "metadata": {},
   "outputs": [],
   "source": [
    "import pickle\n",
    "def read_from_pickle(filename):\n",
    "    with open(filename, 'rb') as f:\n",
    "        data_new = pickle.load(f)\n",
    "    return data_new\n",
    "\n",
    "def write_to_pickle(filename, data):\n",
    "    with open(filename, 'wb') as f:\n",
    "        pickle.dump(data, f)"
   ]
  },
  {
   "cell_type": "code",
   "execution_count": 23,
   "metadata": {},
   "outputs": [],
   "source": [
    "filename = f'{dataset_dir}\\\\df_vacancies_4k_preprocessed_text.pickle'\n",
    "write_to_pickle(filename, df_vacancies_4k)"
   ]
  },
  {
   "cell_type": "code",
   "execution_count": 22,
   "metadata": {},
   "outputs": [],
   "source": [
    "filename = f'{dataset_dir}\\\\df_vacancies_22k_preprocessed_text.pickle'\n",
    "write_to_pickle(filename, df_vacancies_22k)"
   ]
  },
  {
   "cell_type": "code",
   "execution_count": 22,
   "metadata": {},
   "outputs": [],
   "source": [
    "filename = f'{dataset_dir}\\\\df_vacancies_22k_preprocessed_text.pickle'\n",
    "df_vacancies_22k = read_from_pickle(filename)"
   ]
  },
  {
   "cell_type": "code",
   "execution_count": 23,
   "metadata": {},
   "outputs": [],
   "source": [
    "filename = f'{dataset_dir}\\\\df_vacancies_4k_preprocessed_text.pickle'\n",
    "df_vacancies_4k = read_from_pickle(filename)"
   ]
  },
  {
   "cell_type": "code",
   "execution_count": 24,
   "metadata": {},
   "outputs": [
    {
     "data": {
      "text/html": [
       "<div>\n",
       "<style scoped>\n",
       "    .dataframe tbody tr th:only-of-type {\n",
       "        vertical-align: middle;\n",
       "    }\n",
       "\n",
       "    .dataframe tbody tr th {\n",
       "        vertical-align: top;\n",
       "    }\n",
       "\n",
       "    .dataframe thead th {\n",
       "        text-align: right;\n",
       "    }\n",
       "</style>\n",
       "<table border=\"1\" class=\"dataframe\">\n",
       "  <thead>\n",
       "    <tr style=\"text-align: right;\">\n",
       "      <th></th>\n",
       "      <th>id</th>\n",
       "      <th>title</th>\n",
       "      <th>text</th>\n",
       "      <th>labels</th>\n",
       "      <th>preprocessed_text</th>\n",
       "      <th>lemmatized_text</th>\n",
       "      <th>lemmatized_text_pos_tags</th>\n",
       "    </tr>\n",
       "  </thead>\n",
       "  <tbody>\n",
       "    <tr>\n",
       "      <th>0</th>\n",
       "      <td>20001586</td>\n",
       "      <td>Инженер-проектировщик решений по передаче данных</td>\n",
       "      <td>Инженер-проектировщик решений по передаче данн...</td>\n",
       "      <td>20</td>\n",
       "      <td>[инженер, проектировщик, решений, по, передаче...</td>\n",
       "      <td>[инженер, проектировщик, решение, передача, да...</td>\n",
       "      <td>[инженер_NOUN, проектировщик_NOUN, решение_NOU...</td>\n",
       "    </tr>\n",
       "    <tr>\n",
       "      <th>1</th>\n",
       "      <td>20001746</td>\n",
       "      <td>Архитектор решений</td>\n",
       "      <td>Архитектор решений Обязанности:  разработка ар...</td>\n",
       "      <td>17</td>\n",
       "      <td>[архитектор, решений, обязанности, разработка,...</td>\n",
       "      <td>[архитектор, решение, обязанность, разработка,...</td>\n",
       "      <td>[архитектор_NOUN, решение_NOUN, обязанность_NO...</td>\n",
       "    </tr>\n",
       "    <tr>\n",
       "      <th>2</th>\n",
       "      <td>20001909</td>\n",
       "      <td>Python-разработчик в Район</td>\n",
       "      <td>Python-разработчик в Район Новый сервис Яндекс...</td>\n",
       "      <td>14</td>\n",
       "      <td>[python, разработчик, в, район, новый, сервис,...</td>\n",
       "      <td>[python, разработчик, район, новый, сервис, ян...</td>\n",
       "      <td>[python_, разработчик_NOUN, район_NOUN, новый_...</td>\n",
       "    </tr>\n",
       "    <tr>\n",
       "      <th>3</th>\n",
       "      <td>20002793</td>\n",
       "      <td>Системный администратор/Программист Delphi</td>\n",
       "      <td>Системный администратор/Программист Delphi Обя...</td>\n",
       "      <td>14,10</td>\n",
       "      <td>[системный, администратор, программист, delphi...</td>\n",
       "      <td>[системный, администратор, программист, delphi...</td>\n",
       "      <td>[системный_ADJF, администратор_NOUN, программи...</td>\n",
       "    </tr>\n",
       "    <tr>\n",
       "      <th>4</th>\n",
       "      <td>20004542</td>\n",
       "      <td>IT аналитик (электронные торговые площадки)</td>\n",
       "      <td>IT аналитик (электронные торговые площадки)   ...</td>\n",
       "      <td>8</td>\n",
       "      <td>[it, аналитик, электронные, торговые, площадки...</td>\n",
       "      <td>[it, аналитик, электронный, торговый, площадка...</td>\n",
       "      <td>[it_, аналитик_NOUN, электронный_ADJF, торговы...</td>\n",
       "    </tr>\n",
       "  </tbody>\n",
       "</table>\n",
       "</div>"
      ],
      "text/plain": [
       "         id                                             title  \\\n",
       "0  20001586  Инженер-проектировщик решений по передаче данных   \n",
       "1  20001746                                Архитектор решений   \n",
       "2  20001909                        Python-разработчик в Район   \n",
       "3  20002793        Системный администратор/Программист Delphi   \n",
       "4  20004542       IT аналитик (электронные торговые площадки)   \n",
       "\n",
       "                                                text labels  \\\n",
       "0  Инженер-проектировщик решений по передаче данн...     20   \n",
       "1  Архитектор решений Обязанности:  разработка ар...     17   \n",
       "2  Python-разработчик в Район Новый сервис Яндекс...     14   \n",
       "3  Системный администратор/Программист Delphi Обя...  14,10   \n",
       "4  IT аналитик (электронные торговые площадки)   ...      8   \n",
       "\n",
       "                                   preprocessed_text  \\\n",
       "0  [инженер, проектировщик, решений, по, передаче...   \n",
       "1  [архитектор, решений, обязанности, разработка,...   \n",
       "2  [python, разработчик, в, район, новый, сервис,...   \n",
       "3  [системный, администратор, программист, delphi...   \n",
       "4  [it, аналитик, электронные, торговые, площадки...   \n",
       "\n",
       "                                     lemmatized_text  \\\n",
       "0  [инженер, проектировщик, решение, передача, да...   \n",
       "1  [архитектор, решение, обязанность, разработка,...   \n",
       "2  [python, разработчик, район, новый, сервис, ян...   \n",
       "3  [системный, администратор, программист, delphi...   \n",
       "4  [it, аналитик, электронный, торговый, площадка...   \n",
       "\n",
       "                            lemmatized_text_pos_tags  \n",
       "0  [инженер_NOUN, проектировщик_NOUN, решение_NOU...  \n",
       "1  [архитектор_NOUN, решение_NOUN, обязанность_NO...  \n",
       "2  [python_, разработчик_NOUN, район_NOUN, новый_...  \n",
       "3  [системный_ADJF, администратор_NOUN, программи...  \n",
       "4  [it_, аналитик_NOUN, электронный_ADJF, торговы...  "
      ]
     },
     "execution_count": 24,
     "metadata": {},
     "output_type": "execute_result"
    }
   ],
   "source": [
    "df_vacancies_4k.head()"
   ]
  },
  {
   "cell_type": "code",
   "execution_count": 25,
   "metadata": {},
   "outputs": [
    {
     "data": {
      "text/html": [
       "<div>\n",
       "<style scoped>\n",
       "    .dataframe tbody tr th:only-of-type {\n",
       "        vertical-align: middle;\n",
       "    }\n",
       "\n",
       "    .dataframe tbody tr th {\n",
       "        vertical-align: top;\n",
       "    }\n",
       "\n",
       "    .dataframe thead th {\n",
       "        text-align: right;\n",
       "    }\n",
       "</style>\n",
       "<table border=\"1\" class=\"dataframe\">\n",
       "  <thead>\n",
       "    <tr style=\"text-align: right;\">\n",
       "      <th></th>\n",
       "      <th>id</th>\n",
       "      <th>is_prog</th>\n",
       "      <th>is_test</th>\n",
       "      <th>label_true</th>\n",
       "      <th>title</th>\n",
       "      <th>text</th>\n",
       "      <th>preprocessed_text</th>\n",
       "      <th>lemmatized_text</th>\n",
       "      <th>lemmatized_text_pos_tags</th>\n",
       "    </tr>\n",
       "  </thead>\n",
       "  <tbody>\n",
       "    <tr>\n",
       "      <th>0</th>\n",
       "      <td>24992389</td>\n",
       "      <td>False</td>\n",
       "      <td>True</td>\n",
       "      <td>101</td>\n",
       "      <td>Специалист офиса продаж и обслуживания</td>\n",
       "      <td>Специалист офиса продаж и обслуживания Ты наш ...</td>\n",
       "      <td>[специалист, офиса, продаж, и, обслуживания, т...</td>\n",
       "      <td>[специалист, офис, продажа, обслуживание, наш,...</td>\n",
       "      <td>[специалист_NOUN, офис_NOUN, продажа_NOUN, обс...</td>\n",
       "    </tr>\n",
       "    <tr>\n",
       "      <th>1</th>\n",
       "      <td>25195139</td>\n",
       "      <td>False</td>\n",
       "      <td>True</td>\n",
       "      <td>101</td>\n",
       "      <td>Специалист салона связи Beeline</td>\n",
       "      <td>Специалист салона связи Beeline Ты наш человек...</td>\n",
       "      <td>[специалист, салона, связи, beeline, ты, наш, ...</td>\n",
       "      <td>[специалист, салон, связь, beeline, наш, челов...</td>\n",
       "      <td>[специалист_NOUN, салон_NOUN, связь_NOUN, beel...</td>\n",
       "    </tr>\n",
       "    <tr>\n",
       "      <th>2</th>\n",
       "      <td>22995930</td>\n",
       "      <td>False</td>\n",
       "      <td>True</td>\n",
       "      <td>101</td>\n",
       "      <td>Специалист отдела продаж Билайн</td>\n",
       "      <td>Специалист отдела продаж Билайн Ты наш человек...</td>\n",
       "      <td>[специалист, отдела, продаж, билайн, ты, наш, ...</td>\n",
       "      <td>[специалист, отдел, продажа, билайн, наш, чело...</td>\n",
       "      <td>[специалист_NOUN, отдел_NOUN, продажа_NOUN, би...</td>\n",
       "    </tr>\n",
       "    <tr>\n",
       "      <th>3</th>\n",
       "      <td>23754493</td>\n",
       "      <td>False</td>\n",
       "      <td>True</td>\n",
       "      <td>101</td>\n",
       "      <td>Продавец-консультант</td>\n",
       "      <td>Продавец-консультант Ты наш человек, если поня...</td>\n",
       "      <td>[продавец, консультант, ты, наш, человек, если...</td>\n",
       "      <td>[продавец, консультант, наш, человек, понятие,...</td>\n",
       "      <td>[продавец_NOUN, консультант_NOUN, наш_ADJF, че...</td>\n",
       "    </tr>\n",
       "    <tr>\n",
       "      <th>4</th>\n",
       "      <td>23841958</td>\n",
       "      <td>False</td>\n",
       "      <td>True</td>\n",
       "      <td>101</td>\n",
       "      <td>Продавец консультант в салон связи Билайн</td>\n",
       "      <td>Продавец консультант в салон связи Билайн Ты н...</td>\n",
       "      <td>[продавец, консультант, в, салон, связи, билай...</td>\n",
       "      <td>[продавец, консультант, салон, связь, билайн, ...</td>\n",
       "      <td>[продавец_NOUN, консультант_NOUN, салон_NOUN, ...</td>\n",
       "    </tr>\n",
       "  </tbody>\n",
       "</table>\n",
       "</div>"
      ],
      "text/plain": [
       "         id  is_prog  is_test  label_true  \\\n",
       "0  24992389    False     True         101   \n",
       "1  25195139    False     True         101   \n",
       "2  22995930    False     True         101   \n",
       "3  23754493    False     True         101   \n",
       "4  23841958    False     True         101   \n",
       "\n",
       "                                       title  \\\n",
       "0     Специалист офиса продаж и обслуживания   \n",
       "1            Специалист салона связи Beeline   \n",
       "2            Специалист отдела продаж Билайн   \n",
       "3                       Продавец-консультант   \n",
       "4  Продавец консультант в салон связи Билайн   \n",
       "\n",
       "                                                text  \\\n",
       "0  Специалист офиса продаж и обслуживания Ты наш ...   \n",
       "1  Специалист салона связи Beeline Ты наш человек...   \n",
       "2  Специалист отдела продаж Билайн Ты наш человек...   \n",
       "3  Продавец-консультант Ты наш человек, если поня...   \n",
       "4  Продавец консультант в салон связи Билайн Ты н...   \n",
       "\n",
       "                                   preprocessed_text  \\\n",
       "0  [специалист, офиса, продаж, и, обслуживания, т...   \n",
       "1  [специалист, салона, связи, beeline, ты, наш, ...   \n",
       "2  [специалист, отдела, продаж, билайн, ты, наш, ...   \n",
       "3  [продавец, консультант, ты, наш, человек, если...   \n",
       "4  [продавец, консультант, в, салон, связи, билай...   \n",
       "\n",
       "                                     lemmatized_text  \\\n",
       "0  [специалист, офис, продажа, обслуживание, наш,...   \n",
       "1  [специалист, салон, связь, beeline, наш, челов...   \n",
       "2  [специалист, отдел, продажа, билайн, наш, чело...   \n",
       "3  [продавец, консультант, наш, человек, понятие,...   \n",
       "4  [продавец, консультант, салон, связь, билайн, ...   \n",
       "\n",
       "                            lemmatized_text_pos_tags  \n",
       "0  [специалист_NOUN, офис_NOUN, продажа_NOUN, обс...  \n",
       "1  [специалист_NOUN, салон_NOUN, связь_NOUN, beel...  \n",
       "2  [специалист_NOUN, отдел_NOUN, продажа_NOUN, би...  \n",
       "3  [продавец_NOUN, консультант_NOUN, наш_ADJF, че...  \n",
       "4  [продавец_NOUN, консультант_NOUN, салон_NOUN, ...  "
      ]
     },
     "execution_count": 25,
     "metadata": {},
     "output_type": "execute_result"
    }
   ],
   "source": [
    "df_vacancies_22k.head()"
   ]
  },
  {
   "cell_type": "code",
   "execution_count": 20,
   "metadata": {},
   "outputs": [
    {
     "name": "stdout",
     "output_type": "stream",
     "text": [
      "22810\n",
      "4290\n"
     ]
    }
   ],
   "source": [
    "print(len(df_vacancies_22k))\n",
    "print(len(df_vacancies_4k))"
   ]
  },
  {
   "cell_type": "code",
   "execution_count": null,
   "metadata": {},
   "outputs": [],
   "source": []
  },
  {
   "cell_type": "code",
   "execution_count": 76,
   "metadata": {},
   "outputs": [],
   "source": [
    "def filter_nums(tokens):\n",
    "    return [token for token in tokens if(token.isdigit()==False)]\n",
    "\n",
    "df_vacancies_22k['lemmatized_text_wo_num'] = df_vacancies_22k['lemmatized_text_wo_num'].apply(filter_nums)\n",
    "df_vacancies_4k['lemmatized_text_wo_num'] = df_vacancies_4k['lemmatized_text_wo_num'].apply(filter_nums)"
   ]
  },
  {
   "cell_type": "code",
   "execution_count": 98,
   "metadata": {},
   "outputs": [],
   "source": [
    "# tokens = []\n",
    "# for line in df_vacancies_4k['lemmatized_text_wo_num']:\n",
    "#     for token in line:\n",
    "#         tokens.append(token)\n",
    "\n",
    "# print(len(tokens))\n",
    "# for token in tokens:\n",
    "#     if token.find('000') == True:\n",
    "#         print(token)"
   ]
  },
  {
   "cell_type": "code",
   "execution_count": 99,
   "metadata": {},
   "outputs": [],
   "source": [
    "# from sklearn.feature_extraction.text import CountVectorizer\n",
    "# import nltk\n",
    "\n",
    "# max_features = None\n",
    "# max_df = 1.0\n",
    "# internal_stopwords = []\n",
    "\n",
    "\n",
    "\n",
    "# df = pd.DataFrame.from_dict(data=dicts_texts_vacancies_4k, orient='index')\n",
    "\n",
    "# documents_corpus = df[0].values\n",
    "\n",
    "# vectorizer = CountVectorizer(max_features=max_features,\n",
    "#                                          max_df=max_df,\n",
    "#                                          stop_words=internal_stopwords, tokenizer = nltk.tokenize.word_tokenize).fit(documents_corpus)\n"
   ]
  },
  {
   "cell_type": "code",
   "execution_count": 100,
   "metadata": {},
   "outputs": [],
   "source": [
    "# vectorizer"
   ]
  },
  {
   "cell_type": "markdown",
   "metadata": {},
   "source": [
    "# Собираем словарь id:text"
   ]
  },
  {
   "cell_type": "code",
   "execution_count": 58,
   "metadata": {},
   "outputs": [],
   "source": [
    "import logging\n",
    "def get_dict_id_texts_from_df_tokens(df, col_id, col_text):\n",
    "    dict_texts = {}\n",
    "    for i in tqdm_notebook(range(len(df))):\n",
    "        #new_id = str(df.iloc[i]['id'])\n",
    "        new_id = df.iloc[i]['id']\n",
    "        dict_texts[new_id] = ' '.join(df.iloc[i][col_text])\n",
    "    logging.info('Длина словаря: ' + str(len(dict_texts)))\n",
    "    return dict_texts"
   ]
  },
  {
   "cell_type": "code",
   "execution_count": 59,
   "metadata": {},
   "outputs": [
    {
     "data": {
      "application/vnd.jupyter.widget-view+json": {
       "model_id": "063a2bf8fbbb43e8a58cb5f3c924622c",
       "version_major": 2,
       "version_minor": 0
      },
      "text/plain": [
       "HBox(children=(IntProgress(value=0, max=4290), HTML(value='')))"
      ]
     },
     "metadata": {},
     "output_type": "display_data"
    },
    {
     "name": "stdout",
     "output_type": "stream",
     "text": [
      "4290\n"
     ]
    }
   ],
   "source": [
    "dicts_texts_vacancies_4k = get_dict_id_texts_from_df_tokens(df_vacancies_4k, 'id', 'lemmatized_text_wo_num')\n",
    "print(len(dicts_texts_vacancies_4k))"
   ]
  },
  {
   "cell_type": "code",
   "execution_count": 60,
   "metadata": {},
   "outputs": [
    {
     "data": {
      "application/vnd.jupyter.widget-view+json": {
       "model_id": "ad7d1732a37e43bcbea6152f170215f5",
       "version_major": 2,
       "version_minor": 0
      },
      "text/plain": [
       "HBox(children=(IntProgress(value=0, max=22810), HTML(value='')))"
      ]
     },
     "metadata": {},
     "output_type": "display_data"
    },
    {
     "name": "stdout",
     "output_type": "stream",
     "text": [
      "22810\n"
     ]
    }
   ],
   "source": [
    "dicts_texts_vacancies_22k = get_dict_id_texts_from_df_tokens(df_vacancies_22k,'id', 'lemmatized_text_wo_num')\n",
    "print(len(dicts_texts_vacancies_22k))"
   ]
  },
  {
   "cell_type": "markdown",
   "metadata": {},
   "source": [
    "# Строим данные в формате UCI"
   ]
  },
  {
   "cell_type": "code",
   "execution_count": 93,
   "metadata": {},
   "outputs": [],
   "source": [
    "import pandas as pd\n",
    "from sklearn.feature_extraction.text import CountVectorizer\n",
    "from nltk.corpus import stopwords\n",
    "\n",
    "class BagOfWordsModel(object):\n",
    "    OUT_FOLDER = 'out\\\\'\n",
    "\n",
    "    def __init__(self, id_document_dict, max_features=None, max_df=1.0, stopwords_addon = []):\n",
    "        \"\"\"Builds bow model.\n",
    "        Args:\n",
    "            id_document_dict: ids of documents and theirs contents in format\n",
    "                \"{id: 'text', ...}\"\n",
    "            max_features: If not None, build a vocabulary that only consider the top\n",
    "                max_features ordered by term frequency across the corpus.\n",
    "                This parameter is ignored if vocabulary is not None.\n",
    "            max_df: When building the vocabulary ignore terms that have a\n",
    "                document frequency strictly higher than the given threshold\n",
    "                (corpus-specific stop words). If float, the parameter\n",
    "                represents a proportion of documents, integer absolute counts.\n",
    "                This parameter is ignored if vocabulary is not None.\n",
    "        \"\"\"\n",
    "        self.logger = logging.getLogger(__name__)\n",
    "        self.logger.info(\"Building bag-of-words model with max_features={0}, max_df={1}\".format(max_features, max_df))\n",
    "        self.logger.info(\"Size of data set: \" + str(len(id_document_dict)))\n",
    "\n",
    "        if len(id_document_dict) != 0:\n",
    "            self.logger.info(\"Building pandas dataframe\")\n",
    "            df = pd.DataFrame.from_dict(data=id_document_dict, orient='index')\n",
    "            self.logger.info(\"Built pandas dataframe\")\n",
    "            ids = df.index\n",
    "            self.index2id = dict(enumerate(ids))\n",
    "            self.id2index = {v: k for k, v in self.index2id.items()}\n",
    "            documents_corpus = df[0].values  # 1-dim np.array.\n",
    "            # documents_corpus = documents_corpus.astype(unicode)\n",
    "            del df\n",
    "            if max_features is None:\n",
    "                self.logger.info(\n",
    "                    \"Training CountVectorizer with all {0} features\".format(len(ids)))\n",
    "            else:\n",
    "                self.logger.info(\n",
    "                    \"Training CountVectorizer with max {0} features\".format(max_features))\n",
    "            \n",
    "            internal_stopwords = []\n",
    "            internal_stopwords.extend(stopwords.words('russian'))\n",
    "            internal_stopwords.extend(stopwords.words('english'))\n",
    "            internal_stopwords.extend(stopwords_addon)\n",
    "            \n",
    "            vectorizer = CountVectorizer(max_features=max_features,\n",
    "                                         max_df=max_df,\n",
    "                                         stop_words=internal_stopwords,\n",
    "                                         tokenizer = nltk.tokenize.word_tokenize).fit(documents_corpus)\n",
    "            \n",
    "            self.logger.info(\"Trained vectorizer with {0} features\".format(len(vectorizer.get_feature_names())))\n",
    "            self.logger.info(\"Building bag-of-words model\")\n",
    "            bow = vectorizer.transform(documents_corpus)\n",
    "            self.logger.info(\"Done\")\n",
    "\n",
    "            self.url_ids = ids\n",
    "            self.bow_sparse_matrix = bow\n",
    "            self.feature_names = vectorizer.get_feature_names()  # mapping from url_id to url\n",
    "            self.vocabulary = vectorizer.vocabulary_  # mapping from url to url_id\n",
    "            self.shape = self.bow_sparse_matrix.shape\n",
    "\n",
    "    def get_index(self, doc_id):\n",
    "        return self.id2index[doc_id]\n",
    "\n",
    "    def get_doc_id(self, index):\n",
    "        return self.index2id[index]\n",
    "\n",
    "    def get_feature_id(self, feature_name):\n",
    "        return self.vocabulary.get(feature_name)\n",
    "\n",
    "    def get_feature_name(self, feature_id):\n",
    "        return self.feature_names[feature_id]\n",
    "\n",
    "    def toarray(self):\n",
    "        return self.bow_sparse_matrix.toarray()\n",
    "\n",
    "    def to_uci(self, model_name='bow', save_folder=OUT_FOLDER):\n",
    "        import os.path\n",
    "        import codecs\n",
    "        if self.bow_sparse_matrix is None:\n",
    "            self.logger.error(\"Model is None.\")\n",
    "            return\n",
    "        if not os.path.exists(save_folder):\n",
    "            os.makedirs(save_folder)\n",
    "        filenames = model_name\n",
    "        docword_name = os.path.join(save_folder, 'docword.' + filenames + '.txt')\n",
    "        vocab_name = os.path.join(save_folder, 'vocab.' + filenames + '.txt')\n",
    "        with codecs.open(docword_name, 'w', encoding='utf-8') as docword_f, \\\n",
    "             codecs.open(vocab_name, 'w', encoding='utf-8') as vocab_f:\n",
    "            \n",
    "            urls_count = self.shape[0]\n",
    "            words_count = self.shape[1]\n",
    "            # Fill vocab_f file\n",
    "            self.logger.info(\"Start filling {0}\".format(vocab_name))\n",
    "            for i in tqdm_notebook(range(words_count)):\n",
    "#                 if(self.get_feature_name(i).isdigit()):\n",
    "#                     print(self.get_feature_name(i))\n",
    "                vocab_f.write(self.get_feature_name(i) + '\\n')\n",
    "            self.logger.info(\"Done.\")\n",
    "            # Fill docword_f file\n",
    "            self.logger.info(\"Start filling {0}\".format(docword_name))\n",
    "            docword_f.write(str(urls_count) + '\\n')\n",
    "            docword_f.write(str(words_count) + '\\n')\n",
    "            docword_f.write(str(self.bow_sparse_matrix.nnz) + '\\n')\n",
    "            # nnz_position = docword_f.tell() # We fill this line later with nnz_counter.\n",
    "            # nnz_counter = 0 # The number of nonzero counts in the bag-of-words.\n",
    "            nnz_x, nnz_y = self.bow_sparse_matrix.nonzero()\n",
    "            for x, y in zip(nnz_x, nnz_y):\n",
    "                # nnz_counter += len(url_sparse_vector)\n",
    "                docword_f.write(str(x + 1) + ' ' + str(y + 1) + ' ' + str(\n",
    "                    self.bow_sparse_matrix[x, y]) + '\\n')\n",
    "            self.logger.info(\"Done.\")"
   ]
  },
  {
   "cell_type": "code",
   "execution_count": 94,
   "metadata": {},
   "outputs": [],
   "source": [
    "bow_model_4k = BagOfWordsModel(dicts_texts_vacancies_4k, stopwords_addon=[])"
   ]
  },
  {
   "cell_type": "code",
   "execution_count": 95,
   "metadata": {},
   "outputs": [
    {
     "data": {
      "application/vnd.jupyter.widget-view+json": {
       "model_id": "5321ad5a924c4948a1f17e1de396b672",
       "version_major": 2,
       "version_minor": 0
      },
      "text/plain": [
       "HBox(children=(IntProgress(value=0, max=21863), HTML(value='')))"
      ]
     },
     "metadata": {},
     "output_type": "display_data"
    }
   ],
   "source": [
    "bow_model_4k.to_uci(save_folder=f'{dataset_dir}\\\\uci_4k\\\\')"
   ]
  },
  {
   "cell_type": "code",
   "execution_count": 96,
   "metadata": {},
   "outputs": [],
   "source": [
    "bow_model_22k = BagOfWordsModel(dicts_texts_vacancies_22k, stopwords_addon=[])"
   ]
  },
  {
   "cell_type": "code",
   "execution_count": 97,
   "metadata": {},
   "outputs": [
    {
     "data": {
      "application/vnd.jupyter.widget-view+json": {
       "model_id": "e88bb8b7a2c64c63b368e8321933cee4",
       "version_major": 2,
       "version_minor": 0
      },
      "text/plain": [
       "HBox(children=(IntProgress(value=0, max=41036), HTML(value='')))"
      ]
     },
     "metadata": {},
     "output_type": "display_data"
    }
   ],
   "source": [
    "bow_model_22k.to_uci(save_folder=f'{dataset_dir}\\\\uci_22k\\\\')"
   ]
  },
  {
   "cell_type": "markdown",
   "metadata": {},
   "source": [
    "# Строим данные в формате vowpal_wabbit"
   ]
  },
  {
   "cell_type": "code",
   "execution_count": 115,
   "metadata": {},
   "outputs": [],
   "source": [
    "import nltk\n",
    "from nltk.corpus import stopwords\n",
    "morph = pymorphy2.MorphAnalyzer()\n",
    "\n",
    "def make_vowpal_wabbit_str_from_dict_texts(dict_texts, morph, stopwords_addon=[], case = \"ordered\"):\n",
    "    s = ''\n",
    "    keys = list(dict_texts.keys())\n",
    "    for i in tqdm_notebook(range(len(keys))):\n",
    "        text = dict_texts[keys[i]]\n",
    "    \n",
    "        word=nltk.word_tokenize(text)    \n",
    "        word_ws=[w.lower() for w in word if w.isalpha() ] #исключение слов и символов      \n",
    "        \n",
    "        \n",
    "        internal_stopwords = []\n",
    "        internal_stopwords.extend(stopwords.words('russian'))\n",
    "        internal_stopwords.extend(stopwords.words('english'))\n",
    "        internal_stopwords.extend(stopwords_addon)\n",
    "        \n",
    "        word_w=[w for w in word_ws if w not in internal_stopwords ] #нижний регистр  \n",
    "    \n",
    "        \n",
    "        lem = [morph.parse(word)[0].normal_form for word in word_w]\n",
    "    \n",
    "        lema=[w for w in lem if w.isalpha() and len(w)>1]\n",
    "\n",
    "        if(case == \"ordered\"):\n",
    "            s = s + \"|text\" +\" \"+(\" \").join(lema)+'\\n'\n",
    "        if(case == \"frequency\"):\n",
    "            #z = (\" \").join(lema)\n",
    "            freq=nltk.FreqDist(lema) # распределение слов в i -м документе по частоте\n",
    "            z=[] # обновление списка для нового документа\n",
    "\n",
    "            z=[(key+\":\"+str(val)) for key,val in freq.items() if val>1] # частота упоминания через : от слова\n",
    "\n",
    "            s = s + \"|text\" +\" \"+(\" \").join(z)+'\\n'       \n",
    "    return s"
   ]
  },
  {
   "cell_type": "code",
   "execution_count": 116,
   "metadata": {},
   "outputs": [],
   "source": [
    "# dir(dicts_texts_vacancies_4k)\n",
    "# dicts_texts_vacancies_4k"
   ]
  },
  {
   "cell_type": "code",
   "execution_count": 117,
   "metadata": {},
   "outputs": [
    {
     "name": "stdout",
     "output_type": "stream",
     "text": [
      "vacancies_4k ordered\n"
     ]
    },
    {
     "data": {
      "application/vnd.jupyter.widget-view+json": {
       "model_id": "93777fa9605b4e0880066541c4df2d76",
       "version_major": 2,
       "version_minor": 0
      },
      "text/plain": [
       "HBox(children=(IntProgress(value=0, max=4290), HTML(value='')))"
      ]
     },
     "metadata": {},
     "output_type": "display_data"
    },
    {
     "name": "stdout",
     "output_type": "stream",
     "text": [
      "vacancies_4k frequency\n"
     ]
    },
    {
     "data": {
      "application/vnd.jupyter.widget-view+json": {
       "model_id": "485809630b39435fb3b710571655f101",
       "version_major": 2,
       "version_minor": 0
      },
      "text/plain": [
       "HBox(children=(IntProgress(value=0, max=4290), HTML(value='')))"
      ]
     },
     "metadata": {},
     "output_type": "display_data"
    },
    {
     "name": "stdout",
     "output_type": "stream",
     "text": [
      "vacancies_22k ordered\n"
     ]
    },
    {
     "data": {
      "application/vnd.jupyter.widget-view+json": {
       "model_id": "b4d5b0e45de14d55b10b094a83a9c94f",
       "version_major": 2,
       "version_minor": 0
      },
      "text/plain": [
       "HBox(children=(IntProgress(value=0, max=22810), HTML(value='')))"
      ]
     },
     "metadata": {},
     "output_type": "display_data"
    },
    {
     "name": "stdout",
     "output_type": "stream",
     "text": [
      "vacancies_22k frequency\n"
     ]
    },
    {
     "data": {
      "application/vnd.jupyter.widget-view+json": {
       "model_id": "bf97a49a7a624ee1aeb602b6f292b8b0",
       "version_major": 2,
       "version_minor": 0
      },
      "text/plain": [
       "HBox(children=(IntProgress(value=0, max=22810), HTML(value='')))"
      ]
     },
     "metadata": {},
     "output_type": "display_data"
    }
   ],
   "source": [
    "cases = [\"ordered\", \"frequency\"]\n",
    "dicts = {\"vacancies_4k\":dicts_texts_vacancies_4k, \"vacancies_22k\":dicts_texts_vacancies_22k}\n",
    "\n",
    "for key in dicts:\n",
    "    for case in cases:\n",
    "        print(key, case)\n",
    "        vw = make_vowpal_wabbit_str_from_dict_texts(dicts[key], morph, case = case)\n",
    "\n",
    "        filename_wv = f'{dataset_dir}\\\\vw\\\\vw_{key}_{case}.txt'\n",
    "        f=open(filename_wv,'w', encoding='utf')\n",
    "        f.write(vw)        \n",
    "        f.close()"
   ]
  },
  {
   "cell_type": "markdown",
   "metadata": {},
   "source": [
    "# Добавляем тематические вектора из разных моделей ARTM"
   ]
  },
  {
   "cell_type": "code",
   "execution_count": 26,
   "metadata": {},
   "outputs": [],
   "source": [
    "experiment = f\"vacancies_08_22k_300_500_60\"\n",
    "experiment_dir = f\"C:\\\\Users\\\\Ivan\\\\PycharmProjects\\\\all_my_projects_3_6\\\\bigartm vacancies\\\\results\\\\{experiment}\""
   ]
  },
  {
   "cell_type": "code",
   "execution_count": 27,
   "metadata": {},
   "outputs": [
    {
     "name": "stdout",
     "output_type": "stream",
     "text": [
      "['300_0.0_0.0_0_60', '500_0.0_0.0_0_60']\n"
     ]
    }
   ],
   "source": [
    "import os\n",
    "\n",
    "artm_theha_matrix_dir = f\"{experiment_dir}\\\\matrixes\\\\\"\n",
    "\n",
    "def generator_files_in_dir(top_directory, extension=''):\n",
    "    for root, dirs, files in os.walk(top_directory):\n",
    "        for filename in filter(lambda fname: fname.endswith(extension), files):\n",
    "            filename_full = os.path.join(root, filename)\n",
    "            if os.path.isfile(filename_full) is True:\n",
    "                yield filename_full\n",
    "    pass\n",
    "         \n",
    "_filenames = [filename for filename in generator_files_in_dir(artm_theha_matrix_dir) if filename.find('theta')!=-1]\n",
    "\n",
    "_models = [filename.split('\\\\')[-1].split('.csv')[0][:-6] for filename in _filenames]\n",
    "print(_models)"
   ]
  },
  {
   "cell_type": "markdown",
   "metadata": {},
   "source": [
    "# Выбираем модели"
   ]
  },
  {
   "cell_type": "code",
   "execution_count": 28,
   "metadata": {},
   "outputs": [
    {
     "name": "stdout",
     "output_type": "stream",
     "text": [
      "['C:\\\\Users\\\\Ivan\\\\PycharmProjects\\\\all_my_projects_3_6\\\\bigartm vacancies\\\\results\\\\vacancies_08_22k_300_500_60\\\\matrixes\\\\300_0.0_0.0_0_60_theta.csv', 'C:\\\\Users\\\\Ivan\\\\PycharmProjects\\\\all_my_projects_3_6\\\\bigartm vacancies\\\\results\\\\vacancies_08_22k_300_500_60\\\\matrixes\\\\500_0.0_0.0_0_60_theta.csv']\n"
     ]
    }
   ],
   "source": [
    "models = ['300_0.0_0.0_0_60', '500_0.0_0.0_0_60']\n",
    "filenames = [filename for filename in _filenames for model in models if model in filename]\n",
    "print(filenames)"
   ]
  },
  {
   "cell_type": "code",
   "execution_count": null,
   "metadata": {},
   "outputs": [],
   "source": []
  },
  {
   "cell_type": "code",
   "execution_count": 29,
   "metadata": {},
   "outputs": [],
   "source": [
    "df_work = df_vacancies_22k"
   ]
  },
  {
   "cell_type": "code",
   "execution_count": 30,
   "metadata": {},
   "outputs": [
    {
     "name": "stdout",
     "output_type": "stream",
     "text": [
      "Добавляем вектора из файла C:\\Users\\Ivan\\PycharmProjects\\all_my_projects_3_6\\bigartm vacancies\\results\\vacancies_08_22k_300_500_60\\matrixes\\300_0.0_0.0_0_60_theta.csv\n",
      "22810\n",
      "Добавляем вектора из файла C:\\Users\\Ivan\\PycharmProjects\\all_my_projects_3_6\\bigartm vacancies\\results\\vacancies_08_22k_300_500_60\\matrixes\\500_0.0_0.0_0_60_theta.csv\n",
      "22810\n"
     ]
    },
    {
     "data": {
      "text/html": [
       "<div>\n",
       "<style scoped>\n",
       "    .dataframe tbody tr th:only-of-type {\n",
       "        vertical-align: middle;\n",
       "    }\n",
       "\n",
       "    .dataframe tbody tr th {\n",
       "        vertical-align: top;\n",
       "    }\n",
       "\n",
       "    .dataframe thead th {\n",
       "        text-align: right;\n",
       "    }\n",
       "</style>\n",
       "<table border=\"1\" class=\"dataframe\">\n",
       "  <thead>\n",
       "    <tr style=\"text-align: right;\">\n",
       "      <th></th>\n",
       "      <th>id</th>\n",
       "      <th>is_prog</th>\n",
       "      <th>is_test</th>\n",
       "      <th>label_true</th>\n",
       "      <th>title</th>\n",
       "      <th>text</th>\n",
       "      <th>preprocessed_text</th>\n",
       "      <th>lemmatized_text</th>\n",
       "      <th>lemmatized_text_pos_tags</th>\n",
       "      <th>300_0.0_0.0_0_60_theta</th>\n",
       "      <th>500_0.0_0.0_0_60_theta</th>\n",
       "    </tr>\n",
       "  </thead>\n",
       "  <tbody>\n",
       "    <tr>\n",
       "      <th>0</th>\n",
       "      <td>24992389</td>\n",
       "      <td>False</td>\n",
       "      <td>True</td>\n",
       "      <td>101</td>\n",
       "      <td>Специалист офиса продаж и обслуживания</td>\n",
       "      <td>Специалист офиса продаж и обслуживания Ты наш ...</td>\n",
       "      <td>[специалист, офиса, продаж, и, обслуживания, т...</td>\n",
       "      <td>[специалист, офис, продажа, обслуживание, наш,...</td>\n",
       "      <td>[специалист_NOUN, офис_NOUN, продажа_NOUN, обс...</td>\n",
       "      <td>[9.985508e-05, 1.0782002e-06, 2.3501414e-05, 0...</td>\n",
       "      <td>[0.00056593685, 2.3404924e-08, 6.9312387e-07, ...</td>\n",
       "    </tr>\n",
       "    <tr>\n",
       "      <th>1</th>\n",
       "      <td>25195139</td>\n",
       "      <td>False</td>\n",
       "      <td>True</td>\n",
       "      <td>101</td>\n",
       "      <td>Специалист салона связи Beeline</td>\n",
       "      <td>Специалист салона связи Beeline Ты наш человек...</td>\n",
       "      <td>[специалист, салона, связи, beeline, ты, наш, ...</td>\n",
       "      <td>[специалист, салон, связь, beeline, наш, челов...</td>\n",
       "      <td>[специалист_NOUN, салон_NOUN, связь_NOUN, beel...</td>\n",
       "      <td>[9.664870000000001e-05, 1.0274571e-06, 2.27085...</td>\n",
       "      <td>[0.0005477639, 2.0375256999999998e-08, 6.50756...</td>\n",
       "    </tr>\n",
       "  </tbody>\n",
       "</table>\n",
       "</div>"
      ],
      "text/plain": [
       "         id  is_prog  is_test  label_true  \\\n",
       "0  24992389    False     True         101   \n",
       "1  25195139    False     True         101   \n",
       "\n",
       "                                    title  \\\n",
       "0  Специалист офиса продаж и обслуживания   \n",
       "1         Специалист салона связи Beeline   \n",
       "\n",
       "                                                text  \\\n",
       "0  Специалист офиса продаж и обслуживания Ты наш ...   \n",
       "1  Специалист салона связи Beeline Ты наш человек...   \n",
       "\n",
       "                                   preprocessed_text  \\\n",
       "0  [специалист, офиса, продаж, и, обслуживания, т...   \n",
       "1  [специалист, салона, связи, beeline, ты, наш, ...   \n",
       "\n",
       "                                     lemmatized_text  \\\n",
       "0  [специалист, офис, продажа, обслуживание, наш,...   \n",
       "1  [специалист, салон, связь, beeline, наш, челов...   \n",
       "\n",
       "                            lemmatized_text_pos_tags  \\\n",
       "0  [специалист_NOUN, офис_NOUN, продажа_NOUN, обс...   \n",
       "1  [специалист_NOUN, салон_NOUN, связь_NOUN, beel...   \n",
       "\n",
       "                              300_0.0_0.0_0_60_theta  \\\n",
       "0  [9.985508e-05, 1.0782002e-06, 2.3501414e-05, 0...   \n",
       "1  [9.664870000000001e-05, 1.0274571e-06, 2.27085...   \n",
       "\n",
       "                              500_0.0_0.0_0_60_theta  \n",
       "0  [0.00056593685, 2.3404924e-08, 6.9312387e-07, ...  \n",
       "1  [0.0005477639, 2.0375256999999998e-08, 6.50756...  "
      ]
     },
     "execution_count": 30,
     "metadata": {},
     "output_type": "execute_result"
    }
   ],
   "source": [
    "for filename in filenames:\n",
    "    print(f\"Добавляем вектора из файла {filename}\")\n",
    "    name_model = filename.split('\\\\')[-1].split('.csv')[0]\n",
    "    \n",
    "    df_theta = pandas.read_csv(filename, sep=\",\", encoding='utf')\n",
    "    \n",
    "    df_theta.rename(columns={'Unnamed: 0': 'id'}, inplace=True)\n",
    "    \n",
    "    del df_theta['id']\n",
    "    df_theta = df_theta.T\n",
    "    print(len(df_theta))\n",
    "    \n",
    "    df_theta = df_theta.reset_index()\n",
    "    df_theta['index'] = df_theta['index'].astype('int64')\n",
    "    \n",
    "    df_theta = df_theta.sort_values(['index'])\n",
    "    df_theta.head()\n",
    "    \n",
    "\n",
    "    del df_theta['index']\n",
    "    df_theta.head()\n",
    "\n",
    "    lst_row = df_theta.apply(lambda x: x.tolist(), axis=1)\n",
    "    se = pandas.Series(lst_row)\n",
    "    df_work[f'{name_model}'] = se.values\n",
    "\n",
    "df_work.head(2)"
   ]
  },
  {
   "cell_type": "code",
   "execution_count": 21,
   "metadata": {},
   "outputs": [],
   "source": [
    "#del df_work['180_0_0_0_theta']"
   ]
  },
  {
   "cell_type": "code",
   "execution_count": 31,
   "metadata": {},
   "outputs": [],
   "source": [
    "df_work.to_csv('d:\\\\vacancies_08_22k_300_500_60_results.csv')"
   ]
  },
  {
   "cell_type": "markdown",
   "metadata": {},
   "source": [
    "# Добавляем ключевые слова из моделей в dataframe из разных моделей ARTM"
   ]
  },
  {
   "cell_type": "code",
   "execution_count": 30,
   "metadata": {},
   "outputs": [
    {
     "name": "stdout",
     "output_type": "stream",
     "text": [
      "['C:\\\\Users\\\\Ivan\\\\PycharmProjects\\\\all_my_projects_3_6\\\\bigartm vacancies\\\\results\\\\vacancies_04_optimal_num_topics_for_22k 60 (100-200)\\\\top_tokens\\\\100_0_0_0.csv', 'C:\\\\Users\\\\Ivan\\\\PycharmProjects\\\\all_my_projects_3_6\\\\bigartm vacancies\\\\results\\\\vacancies_04_optimal_num_topics_for_22k 60 (100-200)\\\\top_tokens\\\\120_0_0_0.csv', 'C:\\\\Users\\\\Ivan\\\\PycharmProjects\\\\all_my_projects_3_6\\\\bigartm vacancies\\\\results\\\\vacancies_04_optimal_num_topics_for_22k 60 (100-200)\\\\top_tokens\\\\140_0_0_0.csv', 'C:\\\\Users\\\\Ivan\\\\PycharmProjects\\\\all_my_projects_3_6\\\\bigartm vacancies\\\\results\\\\vacancies_04_optimal_num_topics_for_22k 60 (100-200)\\\\top_tokens\\\\160_0_0_0.csv', 'C:\\\\Users\\\\Ivan\\\\PycharmProjects\\\\all_my_projects_3_6\\\\bigartm vacancies\\\\results\\\\vacancies_04_optimal_num_topics_for_22k 60 (100-200)\\\\top_tokens\\\\180_0_0_0.csv', 'C:\\\\Users\\\\Ivan\\\\PycharmProjects\\\\all_my_projects_3_6\\\\bigartm vacancies\\\\results\\\\vacancies_04_optimal_num_topics_for_22k 60 (100-200)\\\\top_tokens\\\\200_0_0_0.csv']\n"
     ]
    }
   ],
   "source": [
    "import os\n",
    "\n",
    "artm_theha_matrix_dir = f\"{experiment_dir}\\\\top_tokens\\\\\"\n",
    "\n",
    "def generator_files_in_dir(top_directory, extension=''):\n",
    "    for root, dirs, files in os.walk(top_directory):\n",
    "        for filename in filter(lambda fname: fname.endswith(extension), files):\n",
    "            filename_full = os.path.join(root, filename)\n",
    "            if os.path.isfile(filename_full) is True:\n",
    "                yield filename_full\n",
    "    pass\n",
    "         \n",
    "_filenames_top_tokens = [filename for filename in generator_files_in_dir(artm_theha_matrix_dir) if filename.find('.csv')!=-1]\n",
    "print(_filenames_top_tokens)\n",
    "# _models = [filename.split('\\\\')[-1].split('.csv')[0] for filename in _filenames]\n",
    "# print(_models)"
   ]
  },
  {
   "cell_type": "code",
   "execution_count": 34,
   "metadata": {},
   "outputs": [
    {
     "name": "stdout",
     "output_type": "stream",
     "text": [
      "Добавляем ключевые слова из файла C:\\Users\\Ivan\\PycharmProjects\\all_my_projects_3_6\\bigartm vacancies\\results\\vacancies_04_optimal_num_topics_for_22k 60 (100-200)\\top_tokens\\100_0_0_0.csv\n"
     ]
    },
    {
     "data": {
      "text/html": [
       "<div>\n",
       "<style scoped>\n",
       "    .dataframe tbody tr th:only-of-type {\n",
       "        vertical-align: middle;\n",
       "    }\n",
       "\n",
       "    .dataframe tbody tr th {\n",
       "        vertical-align: top;\n",
       "    }\n",
       "\n",
       "    .dataframe thead th {\n",
       "        text-align: right;\n",
       "    }\n",
       "</style>\n",
       "<table border=\"1\" class=\"dataframe\">\n",
       "  <thead>\n",
       "    <tr style=\"text-align: right;\">\n",
       "      <th></th>\n",
       "      <th>id</th>\n",
       "      <th>0</th>\n",
       "      <th>1</th>\n",
       "      <th>2</th>\n",
       "      <th>3</th>\n",
       "      <th>4</th>\n",
       "      <th>5</th>\n",
       "      <th>6</th>\n",
       "      <th>7</th>\n",
       "      <th>8</th>\n",
       "      <th>9</th>\n",
       "      <th>10</th>\n",
       "    </tr>\n",
       "  </thead>\n",
       "  <tbody>\n",
       "    <tr>\n",
       "      <th>0</th>\n",
       "      <td>0</td>\n",
       "      <td>topic_0</td>\n",
       "      <td>технический</td>\n",
       "      <td>работа</td>\n",
       "      <td>инженер</td>\n",
       "      <td>профильный</td>\n",
       "      <td>образование</td>\n",
       "      <td>сервисный</td>\n",
       "      <td>специальность</td>\n",
       "      <td>стаж</td>\n",
       "      <td>условие</td>\n",
       "      <td>высокий</td>\n",
       "    </tr>\n",
       "    <tr>\n",
       "      <th>1</th>\n",
       "      <td>1</td>\n",
       "      <td>topic_1</td>\n",
       "      <td>коллектив</td>\n",
       "      <td>дружный</td>\n",
       "      <td>молодая</td>\n",
       "      <td>комфортный</td>\n",
       "      <td>возможность</td>\n",
       "      <td>труд</td>\n",
       "      <td>интересный</td>\n",
       "      <td>молодой</td>\n",
       "      <td>оплата</td>\n",
       "      <td>позитивный</td>\n",
       "    </tr>\n",
       "    <tr>\n",
       "      <th>2</th>\n",
       "      <td>2</td>\n",
       "      <td>topic_2</td>\n",
       "      <td>день</td>\n",
       "      <td>отпуск</td>\n",
       "      <td>оплачивать</td>\n",
       "      <td>больничный</td>\n",
       "      <td>занятость</td>\n",
       "      <td>полный</td>\n",
       "      <td>часы</td>\n",
       "      <td>обед</td>\n",
       "      <td>время</td>\n",
       "      <td>свободный</td>\n",
       "    </tr>\n",
       "    <tr>\n",
       "      <th>3</th>\n",
       "      <td>3</td>\n",
       "      <td>topic_3</td>\n",
       "      <td>бизнес</td>\n",
       "      <td>процесс</td>\n",
       "      <td>анализ</td>\n",
       "      <td>сбор</td>\n",
       "      <td>требование</td>\n",
       "      <td>внутренний</td>\n",
       "      <td>потребность</td>\n",
       "      <td>выявление</td>\n",
       "      <td>постановка</td>\n",
       "      <td>заказчик</td>\n",
       "    </tr>\n",
       "    <tr>\n",
       "      <th>4</th>\n",
       "      <td>4</td>\n",
       "      <td>topic_4</td>\n",
       "      <td>задача</td>\n",
       "      <td>интересный</td>\n",
       "      <td>сложный</td>\n",
       "      <td>поставить</td>\n",
       "      <td>решать</td>\n",
       "      <td>реализовать</td>\n",
       "      <td>подход</td>\n",
       "      <td>нестандартный</td>\n",
       "      <td>выполнять</td>\n",
       "      <td>требовать</td>\n",
       "    </tr>\n",
       "  </tbody>\n",
       "</table>\n",
       "</div>"
      ],
      "text/plain": [
       "   id        0            1           2           3           4            5  \\\n",
       "0   0  topic_0  технический      работа     инженер  профильный  образование   \n",
       "1   1  topic_1    коллектив     дружный     молодая  комфортный  возможность   \n",
       "2   2  topic_2         день      отпуск  оплачивать  больничный    занятость   \n",
       "3   3  topic_3       бизнес     процесс      анализ        сбор   требование   \n",
       "4   4  topic_4       задача  интересный     сложный   поставить       решать   \n",
       "\n",
       "             6              7              8           9          10  \n",
       "0    сервисный  специальность           стаж     условие     высокий  \n",
       "1         труд     интересный        молодой      оплата  позитивный  \n",
       "2       полный           часы           обед       время   свободный  \n",
       "3   внутренний    потребность      выявление  постановка    заказчик  \n",
       "4  реализовать         подход  нестандартный   выполнять   требовать  "
      ]
     },
     "execution_count": 34,
     "metadata": {},
     "output_type": "execute_result"
    }
   ],
   "source": [
    "# for filename in _filenames_top_tokens[:1]:\n",
    "print(f\"Добавляем ключевые слова из файла {filename}\")\n",
    "name_model = filename.split('\\\\')[-1].split('.csv')[0]\n",
    "\n",
    "df_top_tokens = pandas.read_csv(filename, sep=\",\", encoding='utf')\n",
    "\n",
    "df_top_tokens.rename(columns={'Unnamed: 0': 'id'}, inplace=True)\n",
    "df_top_tokens.head()\n",
    "del df_theta['id']\n",
    "#     df_theta = df_theta.T\n",
    "#     print(len(df_theta))\n",
    "    \n",
    "#     df_theta = df_theta.reset_index()\n",
    "#     df_theta['index'] = df_theta['index'].astype('int64')\n",
    "    \n",
    "#     df_theta = df_theta.sort_values(['index'])\n",
    "#     df_theta.head()\n",
    "    \n",
    "\n",
    "#     del df_theta['index']\n",
    "#     df_theta.head()\n",
    "\n",
    "#     lst_row = df_theta.apply(lambda x: x.tolist(), axis=1)\n",
    "#     se = pandas.Series(lst_row)\n",
    "#     df_work[f'{name_model}'] = se.values\n",
    "\n",
    "#df_work.head(2)"
   ]
  },
  {
   "cell_type": "code",
   "execution_count": null,
   "metadata": {},
   "outputs": [],
   "source": []
  }
 ],
 "metadata": {
  "kernelspec": {
   "display_name": "Python 3",
   "language": "python",
   "name": "python3"
  },
  "language_info": {
   "codemirror_mode": {
    "name": "ipython",
    "version": 3
   },
   "file_extension": ".py",
   "mimetype": "text/x-python",
   "name": "python",
   "nbconvert_exporter": "python",
   "pygments_lexer": "ipython3",
   "version": "3.6.5"
  }
 },
 "nbformat": 4,
 "nbformat_minor": 2
}
